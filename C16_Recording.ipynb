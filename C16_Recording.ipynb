{
 "cells": [
  {
   "cell_type": "code",
   "execution_count": 5,
   "metadata": {},
   "outputs": [],
   "source": [
    "#Gerekli modüllerin programa dahil edilmesi\n",
    "import pyaudio\n",
    "import wave"
   ]
  },
  {
   "cell_type": "code",
   "execution_count": 7,
   "metadata": {},
   "outputs": [
    {
     "name": "stdout",
     "output_type": "stream",
     "text": [
      "Kayıt Başladı\n",
      "Kayıt bitti\n",
      "Ses kaydedildi.\n"
     ]
    }
   ],
   "source": [
    "#Kayıt özelliklerinin belirlenmesi\n",
    "RATE = 16000\n",
    "RECORD_SECONDS = 4\n",
    "CHANNELS = 1\n",
    "CHUNK = 16000\n",
    "FORMAT = pyaudio.paInt32\n",
    "\n",
    "#Kayıt başlangıç\n",
    "for index in range(0,1):\n",
    "    WAVE_OUTPUT_FILENAME = \"database/yeni_kayit.wav\"\n",
    "    print(\"Kayıt Başladı\")\n",
    "    p = pyaudio.PyAudio()\n",
    "    stream = p.open(format=FORMAT,channels=CHANNELS,rate=RATE,input=True,frames_per_buffer=CHUNK)\n",
    "    frames = []\n",
    "    for i in range(0, int(RATE / CHUNK * RECORD_SECONDS)):\n",
    "        data = stream.read(CHUNK)\n",
    "        frames.append(data)\n",
    "        \n",
    "    stream.stop_stream()\n",
    "    stream.close()\n",
    "    p.terminate()\n",
    "    #Kayıt bitiş\n",
    "    \n",
    "    #Dosya kayıt işlemleri\n",
    "    wf = wave.open(WAVE_OUTPUT_FILENAME, 'wb')\n",
    "    wf.setnchannels(CHANNELS)\n",
    "    wf.setsampwidth(p.get_sample_size(FORMAT))\n",
    "    wf.setframerate(RATE)\n",
    "    wf.writeframes(b''.join(frames))\n",
    "    wf.close()\n",
    "    \n",
    "print(\"Ses kaydedildi.\")"
   ]
  }
 ],
 "metadata": {
  "kernelspec": {
   "display_name": "Python 3",
   "language": "python",
   "name": "python3"
  },
  "language_info": {
   "codemirror_mode": {
    "name": "ipython",
    "version": 3
   },
   "file_extension": ".py",
   "mimetype": "text/x-python",
   "name": "python",
   "nbconvert_exporter": "python",
   "pygments_lexer": "ipython3",
   "version": "3.7.7"
  }
 },
 "nbformat": 4,
 "nbformat_minor": 2
}
